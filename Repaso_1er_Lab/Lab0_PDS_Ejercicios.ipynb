{
  "nbformat": 4,
  "nbformat_minor": 0,
  "metadata": {
    "colab": {
      "provenance": []
    },
    "kernelspec": {
      "name": "python3",
      "display_name": "Python 3"
    },
    "language_info": {
      "name": "python"
    }
  },
  "cells": [
    {
      "cell_type": "markdown",
      "source": [
        "\n",
        "\n",
        "#**Ejercicios**"
      ],
      "metadata": {
        "id": "JP8N11Dg9Sl3"
      }
    },
    {
      "cell_type": "markdown",
      "source": [
        "#Práctica de Numpy\n"
      ],
      "metadata": {
        "id": "8xTR0kDxRRXF"
      }
    },
    {
      "cell_type": "code",
      "execution_count": 5,
      "metadata": {
        "id": "CfsXr6wI9O-w"
      },
      "outputs": [],
      "source": [
        "# Importar el paquete numpy e imprimir la version y configuración\n",
        "#hint: import .. as, np._version_\n"
      ]
    },
    {
      "cell_type": "code",
      "source": [
        "# Crear un vector de zeros de tamaño 10 con el quinto valor de 7\n",
        "# hint array[4]\n"
      ],
      "metadata": {
        "id": "njeFzeMp-vTA"
      },
      "execution_count": 6,
      "outputs": []
    },
    {
      "cell_type": "code",
      "source": [
        "#Normalizar una matriz aleatoria de 7x7\n",
        "#hint (x-mean)/std\n"
      ],
      "metadata": {
        "id": "vv5U9cgB_Iab"
      },
      "execution_count": 7,
      "outputs": []
    },
    {
      "cell_type": "code",
      "source": [
        "# Crear una matriz de 20 x 20  de unos y cambiar el borde con 0s\n",
        "#hint: np.ones, np.pad\n",
        "\n"
      ],
      "metadata": {
        "id": "TLnyPTtGBIQK"
      },
      "execution_count": 8,
      "outputs": []
    },
    {
      "cell_type": "code",
      "source": [
        "# Multiplicar una matriz de 5x3 de unos por una matriz deunos de 3x2\n",
        "#hint\n"
      ],
      "metadata": {
        "id": "kwsHVKQuBoPE"
      },
      "execution_count": 9,
      "outputs": []
    },
    {
      "cell_type": "code",
      "source": [
        "#Crear un vector de tamaño 10 de 0 a 1, excluir el punto inicial y final\n"
      ],
      "metadata": {
        "id": "GfI2mKD6CWGE"
      },
      "execution_count": 10,
      "outputs": []
    },
    {
      "cell_type": "code",
      "source": [
        "#Crear un vector aleatorio de tamaño 15 con valores de (-5,17) y ordenarlo\n",
        "#hint: sort\n",
        "\n",
        "\n"
      ],
      "metadata": {
        "id": "9cSYPD9ZC5zS"
      },
      "execution_count": 11,
      "outputs": []
    },
    {
      "cell_type": "code",
      "source": [
        "#Crear un vector de tamaño 15 y reemplazar el valor máximo por la media y el mínomo valor por la desviación estándar\n",
        "#hint: argmax, argmin\n"
      ],
      "metadata": {
        "id": "fjsaTnJLEgvb"
      },
      "execution_count": 12,
      "outputs": []
    },
    {
      "cell_type": "code",
      "source": [
        "#Substraer la media de cada fila de una matriz aleatoria de 5x10\n",
        "#hint: mean(axis=,keepdims=)\n"
      ],
      "metadata": {
        "id": "OJydJSBSF4IR"
      },
      "execution_count": 13,
      "outputs": []
    },
    {
      "cell_type": "markdown",
      "source": [
        "#Práctica de MatplotLib"
      ],
      "metadata": {
        "id": "0Du5jzGjRItb"
      }
    },
    {
      "cell_type": "code",
      "source": [
        "#Importar el paquete matplotlib\n",
        "#hint: import .. as, plt._version_\n"
      ],
      "metadata": {
        "id": "vA5b8SEAHAMx"
      },
      "execution_count": 14,
      "outputs": []
    },
    {
      "cell_type": "code",
      "source": [
        "# Plot la ecuacion y=2x+1, use puntos del rango [0,20], figura de tamaño 10,5, coloque el título,\n",
        "# la linea debe ser de color rojo con lineas (--) y en cada punto (*),  agregue una legenda y un grid.\n",
        "# hint: np.arange, plt.figure, plt.plot, plt.title, plt.xlabel, plt.ylabel,  plt.legend, plt.show, plt.grid\n"
      ],
      "metadata": {
        "id": "SPcwx4WsH8yP"
      },
      "execution_count": 15,
      "outputs": []
    },
    {
      "cell_type": "code",
      "source": [
        "#A lo anterior agregar la funcion y=log(x) + 1 y x**2, la linea debe ser de color azul con marcadores cuadrados y de color verde con marcadores +.\n"
      ],
      "metadata": {
        "id": "2dWGvPmJKyZu"
      },
      "execution_count": 16,
      "outputs": []
    },
    {
      "cell_type": "code",
      "source": [
        "# plot un scatter plot de x^2 de color rojo\n",
        "#hint: plt.scatter\n"
      ],
      "metadata": {
        "id": "vWFg_q--M-Jv"
      },
      "execution_count": 17,
      "outputs": []
    },
    {
      "cell_type": "code",
      "source": [
        "# Plot un step azul de x^2 de linewidth = 5\n",
        "#hint: plt.step\n"
      ],
      "metadata": {
        "id": "8mf7AXTANkFj"
      },
      "execution_count": 18,
      "outputs": []
    },
    {
      "cell_type": "code",
      "source": [
        "# plot gráfico de barras de x^2 de color naranja\n",
        "#hint plt.bar\n",
        "\n"
      ],
      "metadata": {
        "id": "JS9rjFnFOvPH"
      },
      "execution_count": 19,
      "outputs": []
    },
    {
      "cell_type": "code",
      "source": [
        "# plot un area ente x^2 y x.logx en verde\n",
        "#hint plt.fill_between\n"
      ],
      "metadata": {
        "id": "s6clABW6PVq8"
      },
      "execution_count": 20,
      "outputs": []
    },
    {
      "cell_type": "code",
      "source": [
        "# Colocar los 4 plots anteriores en un solo plot con su grilla, titulo, ejes, legenda.\n",
        "\n",
        "\n"
      ],
      "metadata": {
        "id": "x7fBLfsiP9et"
      },
      "execution_count": 21,
      "outputs": []
    }
  ]
}